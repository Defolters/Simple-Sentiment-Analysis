{
 "cells": [
  {
   "cell_type": "code",
   "execution_count": null,
   "metadata": {},
   "outputs": [],
   "source": [
    "Лабораторная работа 2. Простейший анализ тональности текста."
   ]
  },
  {
   "cell_type": "code",
   "execution_count": 1,
   "metadata": {},
   "outputs": [],
   "source": [
    "import matplotlib.pyplot as plt\n",
    "import numpy as np\n",
    "import nltk\n",
    "import copy"
   ]
  },
  {
   "cell_type": "code",
   "execution_count": 2,
   "metadata": {},
   "outputs": [],
   "source": [
    "# загружаем твиты из файла\n",
    "data = [] # [[], ...] [[[20, 32], 'Все верно #WorldCupDraw #ЖеребьевкаЧМ https://t.co/vIJ908sKpM'], ...]\n",
    "\n",
    "\n",
    "with open('tweets.txt','r', encoding = 'utf8') as file:\n",
    "    element = []\n",
    "    date = False\n",
    "    \n",
    "    for line in file:\n",
    "        line = line.rstrip()\n",
    "        if date:\n",
    "            element.append([x for x in line.split(' ')[1].split(':')])\n",
    "            date = False\n",
    "        elif line == '**********':\n",
    "            if len(element) > 1:\n",
    "                data.append(element)\n",
    "            element = []\n",
    "            date = True\n",
    "        else:\n",
    "            if len(element) == 2:\n",
    "                element[1] = element[1] + \" \" + line\n",
    "            else:\n",
    "                element.append(line)\n",
    "                \n",
    "    if len(element) > 1:\n",
    "        data.append(element)"
   ]
  },
  {
   "cell_type": "code",
   "execution_count": 3,
   "metadata": {
    "scrolled": true
   },
   "outputs": [],
   "source": [
    "# 1. Подготовка и обработка данных.\n",
    "import re\n",
    "import string\n",
    "reviews = copy.deepcopy(data) # [[[20, 32], 'верно жеребьевкачм'], ...]\n",
    "\n",
    "\n",
    "stopword_list = nltk.corpus.stopwords.words('russian')\n",
    "stopword_list = stopword_list + ['что', 'это', 'вот', 'быть', 'как', 'в', 'к', 'на']\n",
    "\n",
    "\n",
    "# делим текст на слова, убираем пробелы\n",
    "def tokenize_text(text):\n",
    "    tokens = nltk.word_tokenize(text)\n",
    "    tokens = [token.strip() for token in tokens]\n",
    "    return tokens\n",
    "\n",
    "\n",
    "# убираем незначащие символы\n",
    "def remove_special_characters(text):\n",
    "    tokens = tokenize_text(text)\n",
    "    avoid = string.punctuation + '…–—»«'\n",
    "    avoid = avoid.replace('(', '')\n",
    "    avoid = avoid.replace(')', '')\n",
    "    avoid += string.ascii_lowercase\n",
    "    avoid += string.digits\n",
    "    # создаем регулярный объект\n",
    "    pattern = re.compile('[{}]'.format(avoid))\n",
    "    # sub заменяет в строке слова из pattern на ' '\n",
    "    filtered_text = ' '.join([pattern.sub(' ', token) for token in tokens])\n",
    "    return filtered_text\n",
    "\n",
    "\n",
    "# убираем стоп-слова и слова, которые меньше трех букв\n",
    "def remove_stopwords(text):\n",
    "    tokens = tokenize_text(text)\n",
    "    filtered_tokens = [token for token in tokens if (token not in stopword_list) \\\n",
    "                       & ((len(token) > 3) | (token in ['(', ')']))]\n",
    "    filtered_text = ' '.join(filtered_tokens)\n",
    "    return filtered_text\n",
    "\n",
    "\n",
    "words = {}  # {'верно': [1], ...}\n",
    "number_of_words = 0  # количество слов всего\n",
    "for i in range(len(reviews)):\n",
    "    checked_words = []\n",
    "    text = reviews[i][1].lower()    \n",
    "    text = remove_special_characters(text)\n",
    "    text = remove_stopwords(text)\n",
    "    text = text.replace('ё', 'е')\n",
    "    reviews[i][1] = text\n",
    "    \n",
    "    for word in text.split(' '):\n",
    "        number_of_words += 1\n",
    "        if word not in checked_words:\n",
    "            checked_words.append(word)\n",
    "            if word in words:\n",
    "                words[word][0] += 1\n",
    "            else:\n",
    "                words[word] = [1]"
   ]
  },
  {
   "cell_type": "code",
   "execution_count": 4,
   "metadata": {},
   "outputs": [
    {
     "name": "stdout",
     "output_type": "stream",
     "text": [
      "жеребьевкачм - 127 - 80.0%\n",
      "группы - 33 - 20.0%\n",
      "россии - 30 - 20.0%\n",
      "группа - 22 - 10.0%\n",
      "россия - 22 - 10.0%\n"
     ]
    }
   ],
   "source": [
    "# 2. Частотный анализ.\n",
    "from math import log10, floor\n",
    "def round_to_1(x):\n",
    "    return round(x, -int(floor(log10(abs(x)))))\n",
    "\n",
    "\n",
    "# sorted words by number [('жеребьевкачм', [127]), ...] \n",
    "words_count = sorted(words.items(), key=lambda k: k[1][0], reverse = True)\n",
    "\n",
    "frequency = open('frequency.txt', 'w', encoding = 'utf8')\n",
    "for word_tuple in words_count:\n",
    "    frequency.write(word_tuple[0] + ' - ' + str(word_tuple[1][0]) +' - '+ \\\n",
    "                    str(round_to_1(word_tuple[1][0]/len(reviews) * 100)) + '%\\n')\n",
    "\n",
    "    \n",
    "frequency.close()\n",
    "for i in range(5):\n",
    "    print(words_count[i][0] + ' - ' + str(words_count[i][1][0]) +' - '+ \\\n",
    "                    str(round_to_1(words_count[i][1][0]/len(reviews) * 100)) + '%')"
   ]
  },
  {
   "cell_type": "code",
   "execution_count": 186,
   "metadata": {},
   "outputs": [],
   "source": [
    "# сохраняем слова для оценки\n",
    "\n",
    "\n",
    "estimations = open('estimations.txt', 'w', encoding = 'utf8')\n",
    "for word_tuple in words_count:\n",
    "    estimations.write(word_tuple[0] + ' 0\\n')\n",
    "estimations.close()"
   ]
  },
  {
   "cell_type": "code",
   "execution_count": 5,
   "metadata": {},
   "outputs": [],
   "source": [
    "# 3. Эмпирическая оценка/маркировка отдельных слов.\n",
    "words_with_estimation = copy.deepcopy(words)  # {'верно': [1, 1], ...} {word: [amount, label]}\n",
    "\n",
    "\n",
    "with open('estimations.txt', 'r', encoding = 'utf8') as estimations:\n",
    "        for line in estimations:\n",
    "            line = line.split(' ')\n",
    "            words_with_estimation[line[0]].append(int(line[1]))"
   ]
  },
  {
   "cell_type": "code",
   "execution_count": 6,
   "metadata": {
    "scrolled": true
   },
   "outputs": [
    {
     "name": "stdout",
     "output_type": "stream",
     "text": [
      "Sum of estimates\n",
      "Good - 51 - 0.32%\n",
      "\n",
      "Bad - 42 - 0.26%\n",
      "\n",
      "Neutral - 68 - 0.42%\n",
      "\n",
      "Over 25%\n",
      "Good - 13 - 0.08%\n",
      "\n",
      "Bad - 14 - 0.09%\n",
      "\n",
      "Neutral - 134 - 0.83%\n",
      "\n"
     ]
    }
   ],
   "source": [
    "# 4. Выбор правила оценки твита. Оценка твитов.\n",
    "def print_and_write(file, label, bad, neu, pos):\n",
    "    file.write(label + '\\n')\n",
    "    g = 'Good - ' + str(pos) + ' - ' + str(round(pos/len(estimated_reviews), 2)) + '%\\n'\n",
    "    b = 'Bad - ' + str(bad) + ' - ' + str(round(bad/len(estimated_reviews), 2)) + '%\\n'\n",
    "    n = 'Neutral - ' + str(neu) + ' - ' + str(round(neu/len(estimated_reviews), 2)) + '%\\n'\n",
    "    file.write(g)\n",
    "    file.write(b)\n",
    "    file.write(n)\n",
    "    print(label)\n",
    "    print(g)\n",
    "    print(b)\n",
    "    print(n)\n",
    "\n",
    "    \n",
    "def estimating_tweets(estimated_reviews, border):\n",
    "    bad = 0\n",
    "    neutral = 0\n",
    "    positive = 0\n",
    "    for review in estimated_reviews:\n",
    "        label = 0\n",
    "        number = 0\n",
    "        for word in review[1].split(' '):\n",
    "            label += words_with_estimation[word][1]\n",
    "            number += 1\n",
    "        label /= number\n",
    "        if label > border:\n",
    "            label = 1\n",
    "            positive += 1\n",
    "        elif label < -border:\n",
    "            label = -1\n",
    "            bad += 1\n",
    "        else:\n",
    "            label = 0\n",
    "            neutral += 1\n",
    "        review.append(label)\n",
    "    return bad, neutral, positive\n",
    "\n",
    "\n",
    "estimated_reviews = copy.deepcopy(reviews)  # [[[20, 32], 'верно жеребьевкачм', 1], ...]\n",
    "\n",
    "bad, neutral, positive = estimating_tweets(estimated_reviews, 0)\n",
    "bad_25, neutral_25, positive_25 = estimating_tweets(estimated_reviews, 0.25)\n",
    "\n",
    "classify = open('classifications.txt', 'w', encoding = 'utf8')    \n",
    "print_and_write(classify, 'Sum of estimates', bad, neutral, positive)\n",
    "print_and_write(classify, 'Over 25%', bad_25, neutral_25, positive_25)\n",
    "classify.close()"
   ]
  },
  {
   "cell_type": "code",
   "execution_count": 7,
   "metadata": {},
   "outputs": [
    {
     "data": {
      "image/png": "[encoded data removed]",
      "text/plain": [
       "<matplotlib.figure.Figure at 0xd06f470>"
      ]
     },
     "metadata": {},
     "output_type": "display_data"
    }
   ],
   "source": [
    "def autolabel(container, origin):\n",
    "    labels = ['1','0','-1']\n",
    "\n",
    "    for bar, label in zip(container, labels):\n",
    "        height = bar.get_height()\n",
    "        width = bar.get_width()\n",
    "        origin.text(bar.get_x() + width/2, height/2, label, ha='center', va='bottom')\n",
    "\n",
    "        \n",
    "fig = plt.figure()\n",
    "fig.set_figwidth(10)\n",
    "fig.set_figheight(4.25)\n",
    "\n",
    "array = np.arange(3) \n",
    "\n",
    "bar_SOE = fig.add_subplot(121)\n",
    "bar_SOE_container = bar_SOE.bar(array, (positive, neutral, bad), color='g')\n",
    "bar_SOE.set_title('Sum of estimates')\n",
    "bar_SOE.set_ylabel('Number of tweets')\n",
    "bar_SOE.set_xlabel('Labels')\n",
    "plt.tick_params(axis='x', which='both', bottom='off', top='off', labelbottom='off')\n",
    "\n",
    "\n",
    "bar_25 = fig.add_subplot(122)\n",
    "bar_25_container = bar_25.bar(array, (positive_25, neutral_25, bad_25), color='y')\n",
    "bar_25.set_title('Over 25%')\n",
    "bar_25.set_ylabel('Number of tweets')\n",
    "bar_25.set_xlabel('Labels')\n",
    "plt.tick_params(axis='x', which='both', bottom='off', top='off', labelbottom='off')\n",
    "\n",
    "\n",
    "autolabel(bar_25_container, bar_25)\n",
    "autolabel(bar_SOE_container, bar_SOE)\n",
    "plt.savefig('estimates.png')\n",
    "plt.show()"
   ]
  },
  {
   "cell_type": "code",
   "execution_count": 8,
   "metadata": {
    "scrolled": false
   },
   "outputs": [
    {
     "name": "stdout",
     "output_type": "stream",
     "text": [
      "Top-5 Positive:\n",
      "лучшие - 2 - 0.003%\n",
      "\n",
      "неплохое - 1 - 0.001%\n",
      "\n",
      "идеальная - 1 - 0.001%\n",
      "\n",
      "доволен - 1 - 0.001%\n",
      "\n",
      "халявная - 1 - 0.001%\n",
      "\n",
      "Top-5 Negative:\n",
      "сложная - 2 - 0.003%\n",
      "\n",
      "слабый - 2 - 0.003%\n",
      "\n",
      "хуже - 2 - 0.003%\n",
      "\n",
      "хуйня - 2 - 0.003%\n",
      "\n",
      "дохлых - 1 - 0.001%\n",
      "\n"
     ]
    }
   ],
   "source": [
    "# 5. Части речи.\n",
    "def print_and_write_adj(file, title, adjs, words, words_number):\n",
    "    adjectives.write(title + '\\n')\n",
    "    print(title)\n",
    "    for adj in adjs:\n",
    "        output = adj[0]+' - '+str(adj[1][0])+' - '+str(round(adj[1][0]/len(words_with_estimation), 3))+'%\\n'\n",
    "        adjectives.write(output)\n",
    "        print(output)\n",
    "        words.append(adj[0])\n",
    "        words_number.append(adj[1][0])\n",
    "\n",
    "\n",
    "pos_adj = []\n",
    "neg_adj = []\n",
    "\n",
    "\n",
    "for word in sorted(words_with_estimation.items(), key=lambda k: k[1][0], reverse = True):\n",
    "    tag = nltk.tag.pos_tag([word[0]], lang='rus')\n",
    "    \n",
    "    if (('A=' in tag[0][1])|(tag[0][1] == 'A'))&(word[1][1] == 1)&(len(pos_adj)<5):\n",
    "        pos_adj.append(word)\n",
    "    if (('A=' in tag[0][1])|(tag[0][1] == 'A'))&(word[1][1] == -1)&(len(neg_adj)<5):\n",
    "        neg_adj.append(word)\n",
    "    if (len(neg_adj) == 5)&(len(pos_adj) == 5):\n",
    "        break\n",
    "\n",
    "        \n",
    "words = []\n",
    "words_number = []\n",
    "    \n",
    "adjectives = open('adjectives.txt', 'w', encoding = 'utf8')\n",
    "print_and_write_adj(adjectives, 'Top-5 Positive:', pos_adj, words, words_number)\n",
    "print_and_write_adj(adjectives, 'Top-5 Negative:', neg_adj, words, words_number)\n",
    "adjectives.close()"
   ]
  },
  {
   "cell_type": "code",
   "execution_count": 9,
   "metadata": {},
   "outputs": [
    {
     "data": {
      "image/png": "[encoded data removed]",
      "text/plain": [
       "<matplotlib.figure.Figure at 0xd04b970>"
      ]
     },
     "metadata": {},
     "output_type": "display_data"
    }
   ],
   "source": [
    "def autolabel(container, origin, words):\n",
    "    for bar, word in zip(container, words):\n",
    "        height = bar.get_height()\n",
    "        width = bar.get_width()\n",
    "        origin.text(bar.get_x() + width/2, height/2, word, ha='center', va='bottom')\n",
    "    \n",
    "\n",
    "f, (pos_bar, neg_bar) = plt.subplots(1, 2, sharex=True, sharey=True, figsize=(15, 4))\n",
    "f.subplots_adjust(wspace=0)\n",
    "f.text(0.5, 0.05, 'Words', ha='center', fontsize=12)\n",
    "plt.yticks(words_number)\n",
    "pos_bar.set_ylabel('Number of tweets')\n",
    "\n",
    "array = np.arange(5)\n",
    "\n",
    "pos_bar_container = pos_bar.bar(array, words_number[:5], color='g')\n",
    "pos_bar.set_title('Top-5 Positive')\n",
    "neg_bar_container = neg_bar.bar(array, words_number[5:], color='g')\n",
    "neg_bar.set_title('Top-5 Negative')\n",
    "\n",
    "for a in f.axes[:]:\n",
    "    a.tick_params(axis='x', which='both', top='off', labelbottom='off')\n",
    "\n",
    "autolabel(pos_bar_container, pos_bar, words[:5])\n",
    "autolabel(neg_bar_container, neg_bar, words[5:])\n",
    "plt.savefig('adjectives.png')\n",
    "plt.show()"
   ]
  },
  {
   "cell_type": "code",
   "execution_count": 10,
   "metadata": {
    "scrolled": true
   },
   "outputs": [
    {
     "name": "stdout",
     "output_type": "stream",
     "text": [
      "16:22 - 16:32 : 35 0.31/0.46/0.2\n",
      "16:22 - 16:42 : 50 0.3/0.38/0.3\n",
      "16:22 - 16:52 : 63 0.32/0.38/0.29\n",
      "16:22 - 17:02 : 74 0.3/0.43/0.26\n",
      "16:22 - 17:12 : 78 0.29/0.44/0.26\n"
     ]
    }
   ],
   "source": [
    "# 6. распределение по времени\n",
    "def plus_ten(time):\n",
    "    hour = int(time[0])\n",
    "    minute = int(time[1])\n",
    "    if minute>=50:\n",
    "        hour += 1\n",
    "        hour %= 24\n",
    "        minute += 10\n",
    "        minute %= 60\n",
    "    else:\n",
    "        minute += 10\n",
    "    \n",
    "    minute = str(minute)\n",
    "    if len(minute) < 2:\n",
    "        minute = '0' + minute\n",
    "    hour = str(hour)\n",
    "    if len(hour) < 2:\n",
    "        hour = '0' + hour\n",
    "    \n",
    "    return [hour, minute]\n",
    "\n",
    "\n",
    "hours = open('hours.txt', 'w', encoding = 'utf8')\n",
    "\n",
    "# estimated reviews sorted by date\n",
    "date_sort_rev = sorted(estimated_reviews, key=lambda tweet: (int(tweet[0][0]), int(tweet[0][1]))) \n",
    "number_of_tweets = 0\n",
    "number_of_pos = 0\n",
    "number_of_neg = 0\n",
    "number_of_neut = 0\n",
    "time_plot = []\n",
    "number_plot = []\n",
    "pos_plot = []\n",
    "neu_plot = []\n",
    "neg_plot = []\n",
    "last = plus_ten(date_sort_rev[0][0])\n",
    "\n",
    "for tw in date_sort_rev:\n",
    "    number_of_tweets += 1\n",
    "    if (tw[0][0] >= last[0])&(tw[0][1] >= last[1]):\n",
    "        time_plot.append(str(last[0])+':'+str(last[1]))\n",
    "        number_plot.append(number_of_tweets)\n",
    "        pos_plot.append(round(number_of_pos/number_of_tweets, 2))\n",
    "        neu_plot.append(round(number_of_neut/number_of_tweets, 2))\n",
    "        neg_plot.append(round(number_of_neg/number_of_tweets, 2))\n",
    "        hours.write(date_sort_rev[0][0][0]+':'+date_sort_rev[0][0][1]+' - '+time_plot[-1]+' : '+str(number_plot[-1])+' '+\\\n",
    "                    str(pos_plot[-1])+'/'+str(neu_plot[-1])+'/'+str(neg_plot[-1])+'\\n')\n",
    "        last = plus_ten(last)  \n",
    "    if (tw[2] == 0):\n",
    "        number_of_neut += 1\n",
    "    elif(tw[2] == 1):\n",
    "        number_of_pos += 1\n",
    "    else:\n",
    "        number_of_neg += 1\n",
    "\n",
    "        \n",
    "time_plot.append(str(last[0])+':'+str(last[1]))\n",
    "number_plot.append(number_of_tweets)\n",
    "pos_plot.append(round(number_of_pos/number_of_tweets, 2))\n",
    "neu_plot.append(round(number_of_neut/number_of_tweets, 2))\n",
    "neg_plot.append(round(number_of_neg/number_of_tweets, 2))\n",
    "hours.write(date_sort_rev[0][0][0]+':'+date_sort_rev[0][0][1]+' - '+time_plot[-1]+' : '+str(number_plot[-1])+' '+\\\n",
    "                    str(pos_plot[-1])+'/'+str(neu_plot[-1])+'/'+str(neg_plot[-1])+'\\n')\n",
    "hours.close()\n",
    "\n",
    "for i in range(5):\n",
    "    print(date_sort_rev[0][0][0]+':'+date_sort_rev[0][0][1]+' - '+time_plot[i]+' : '+str(number_plot[i])+' '+\\\n",
    "          str(pos_plot[i])+'/'+str(neu_plot[i])+'/'+str(neg_plot[i]))"
   ]
  },
  {
   "cell_type": "code",
   "execution_count": 11,
   "metadata": {
    "scrolled": false
   },
   "outputs": [
    {
     "data": {
      "image/png": "[encoded data removed]",
      "text/plain": [
       "<matplotlib.figure.Figure at 0x12242a70>"
      ]
     },
     "metadata": {},
     "output_type": "display_data"
    }
   ],
   "source": [
    "fig = plt.figure(figsize=(16, 7))\n",
    "fig.subplots_adjust(bottom=0.1)\n",
    "\n",
    "fraction_graph = fig.add_subplot(211)\n",
    "fraction_graph.set_ylabel('Fraction')\n",
    "fraction_graph.set_title('Distribution of tweets classes in time', y=1.2, size=18)\n",
    "fraction_graph.grid()\n",
    "\n",
    "x=[i for i in range(len(time_plot))]\n",
    "plt.xticks(x, time_plot)\n",
    "\n",
    "pos_line = fraction_graph.plot(pos_plot,'ro-',label='positive')\n",
    "neg_line = fraction_graph.plot(neg_plot,'bo--',label='negative')\n",
    "neu_line = fraction_graph.plot(neu_plot,'go:',label='neutral')\n",
    "\n",
    "lines = pos_line+neg_line+neu_line\n",
    "labels = [l.get_label() for l in lines]\n",
    "fraction_graph.legend(lines, labels, bbox_to_anchor=(0, 1.02, 1, 100), loc=8, ncol=3)\n",
    "\n",
    "for a in fig.axes[:]:\n",
    "    a.tick_params(axis='x', which='both', top='off', labelbottom='off')\n",
    "\n",
    "numb_of_tweets = fig.add_subplot(212)\n",
    "numb_of_tweets.plot(number_plot,'ko')\n",
    "numb_of_tweets.set_xlabel('Time Window')\n",
    "numb_of_tweets.set_ylabel('Number of tweets')\n",
    "numb_of_tweets.grid()\n",
    "\n",
    "for i in range(len(time_plot)):\n",
    "    numb_of_tweets.vlines(x=i, ymin=0, ymax=number_plot[i], lw=1, color='k')\n",
    "\n",
    "plt.xticks(x, time_plot)\n",
    "plt.savefig('hours.png')\n",
    "plt.show()"
   ]
  },
  {
   "cell_type": "code",
   "execution_count": 12,
   "metadata": {
    "scrolled": false
   },
   "outputs": [
    {
     "name": "stdout",
     "output_type": "stream",
     "text": [
      "Top-5 Closest:\n",
      "верно 1 1.0\n",
      "франция 0 0.0\n",
      "австралия 0 0.0\n",
      "перу 0 0.0\n",
      "дания 0 0.0\n",
      "\n",
      "Top-5 Furthest:\n",
      "сильный 1 -1.0\n",
      "ждал 1 -1.0\n",
      "фаворит 1 -1.0\n",
      "тяжелым -1 1.0\n",
      "сложно -1 1.0\n",
      "\n",
      "Estimation accuracy: 60%\n"
     ]
    }
   ],
   "source": [
    "# 7*. ДОПОЛНИТЕЛЬНОЕ ЗАДАНИЕ. Определение точности эмпирической оценки твитов.\n",
    "# words_check_estimation = [['word', -1label, -1.5mean, 0.5difference], ...]\n",
    "words_check_estimation = copy.deepcopy(words_with_estimation)\n",
    "wrong = 0\n",
    "for word in words_check_estimation:\n",
    "    number_of_tweets = 0\n",
    "    mean = 0\n",
    "    for tw in estimated_reviews:\n",
    "        if word in tw[1]:\n",
    "            number_of_tweets += 1\n",
    "            mean += int(tw[2])\n",
    "\n",
    "    words_check_estimation[word].append(mean/number_of_tweets)\n",
    "    difference = abs(words_check_estimation[word][1]-mean/number_of_tweets)\n",
    "    words_check_estimation[word].append(difference)\n",
    "    if difference > 0.5:\n",
    "        wrong += 1\n",
    "\n",
    "        \n",
    "sorted_words_check_estimation = sorted(words_check_estimation.items(), key=lambda k: k[1][3])\n",
    "est_check = open('estimation_check.txt', 'w', encoding = 'utf8')\n",
    "\n",
    "est_check.write('Top-5 Closest:\\n')\n",
    "print('Top-5 Closest:')\n",
    "for i in range(5):\n",
    "    print(sorted_words_check_estimation[i][0]+' '+str(sorted_words_check_estimation[i][1][1])+' '+str(sorted_words_check_estimation[i][1][2]))\n",
    "    est_check.write(sorted_words_check_estimation[i][0]+' '+str(sorted_words_check_estimation[i][1][1])+' '+str(sorted_words_check_estimation[i][1][2])+'\\n')\n",
    "\n",
    "est_check.write('\\nTop-5 Furthest:\\n')\n",
    "print('\\nTop-5 Furthest:')\n",
    "for i in range(5):\n",
    "    i = len(sorted_words_check_estimation) - i - 1\n",
    "    print(sorted_words_check_estimation[i][0] + ' ' + str(sorted_words_check_estimation[i][1][1]) + ' ' + str(sorted_words_check_estimation[i][1][2]))\n",
    "    est_check.write(sorted_words_check_estimation[i][0] + ' ' + str(sorted_words_check_estimation[i][1][1]) + ' ' + str(sorted_words_check_estimation[i][1][2])+'\\n')\n",
    "\n",
    "print('\\nEstimation accuracy: '+str(round((1 - wrong/len(words_check_estimation)) * 100))+'%')\n",
    "est_check.write('\\nEstimation accuracy: '+str(round((1 - wrong/len(words_check_estimation)) * 100))+'%\\n')\n",
    "\n",
    "est_check.close()"
   ]
  },
  {
   "cell_type": "code",
   "execution_count": 13,
   "metadata": {
    "scrolled": false
   },
   "outputs": [
    {
     "name": "stdout",
     "output_type": "stream",
     "text": [
      "Top-5 Most Positive:\n",
      "сложно 1.0\n",
      "выходить 1.0\n",
      "шансы 1.0\n",
      "выход 1.0\n",
      "арабы 1.0\n",
      "\n",
      "Top-5 Most Negative:\n",
      "смерти -1.0\n",
      "соперников -1.0\n",
      "египта -1.0\n",
      "сила -1.0\n",
      "слабый -1.0\n"
     ]
    }
   ],
   "source": [
    "# 8*. ДОПОЛНИТЕЛЬНОЕ ЗАДАНИЕ. Определить слова с самой положительной и отрицательной окраской.\n",
    "# words = [['word', -1label, -1.5mean, 0.5difference]]\n",
    "words = []\n",
    "words_number = []\n",
    "\n",
    "best = open('best_worst.txt', 'w', encoding = 'utf8')\n",
    "sorted_words_best = sorted(words_check_estimation.items(), key=lambda k: (k[1][2], k[1][0]), reverse=True)#(abs(k[1][2]), k[1][0]), reverse = True) #сортировать еще и по количествуу\n",
    "\n",
    "print('Top-5 Most Positive:')\n",
    "best.write('Top-5 Most Positive:\\n')\n",
    "for i in range(5):\n",
    "    print(sorted_words_best[i][0] + ' ' + str(sorted_words_best[i][1][2]))\n",
    "    best.write(sorted_words_best[i][0] + ' ' + str(sorted_words_best[i][1][2]) + '\\n')\n",
    "    words.append(sorted_words_best[i][0])\n",
    "    words_number.append(sorted_words_best[i][1][0])\n",
    "\n",
    "sorted_words_best = sorted(words_check_estimation.items(), key=lambda k: ((-k[1][2]), k[1][0]), reverse=True)#(abs(k[1][2]), k[1][0]), reverse = True) #сортировать еще и по количествуу\n",
    "\n",
    "print('\\nTop-5 Most Negative:')\n",
    "best.write('Top-5 Most Negative:\\n')\n",
    "for i in range(5):\n",
    "    print(sorted_words_best[i][0] + ' ' + str(sorted_words_best[i][1][2]))\n",
    "    best.write(sorted_words_best[i][0] + ' ' + str(sorted_words_best[i][1][2]) + '\\n')\n",
    "    words.append(sorted_words_best[i][0])\n",
    "    words_number.append(sorted_words_best[i][1][0])\n",
    "\n",
    "best.close()"
   ]
  },
  {
   "cell_type": "code",
   "execution_count": 14,
   "metadata": {
    "scrolled": true
   },
   "outputs": [
    {
     "data": {
      "image/png": "[encoded data removed]",
      "text/plain": [
       "<matplotlib.figure.Figure at 0x12242ed0>"
      ]
     },
     "metadata": {},
     "output_type": "display_data"
    }
   ],
   "source": [
    "def autolabel(container, origin, words):\n",
    "    for bar, word in zip(container, words):\n",
    "        height = bar.get_height()\n",
    "        width = bar.get_width()\n",
    "        origin.text(bar.get_x() + width/2, height/2, word, ha='center', va='bottom')\n",
    "    \n",
    "\n",
    "f, (pos_bar, neg_bar) = plt.subplots(1, 2, sharex=True, sharey=True, figsize=(15, 4))\n",
    "f.subplots_adjust(wspace=0)\n",
    "f.text(0.5, 0.05, 'Words', ha='center', fontsize=12)\n",
    "plt.yticks(words_number)\n",
    "pos_bar.set_ylabel('Number of tweets')\n",
    "\n",
    "array = np.arange(5)\n",
    "\n",
    "pos_bar_container = pos_bar.bar(array, words_number[:5], color='g')\n",
    "pos_bar.set_title('Top-5 Most Positive:')\n",
    "neg_bar_container = neg_bar.bar(array, words_number[5:], color='g')\n",
    "neg_bar.set_title('Top-5 Most Negative:')\n",
    "\n",
    "for a in f.axes[:]:\n",
    "    a.tick_params(axis='x', which='both', top='off', labelbottom='off')\n",
    "\n",
    "autolabel(pos_bar_container, pos_bar, words[:5])\n",
    "autolabel(neg_bar_container, neg_bar, words[5:])\n",
    "plt.savefig('best_worst.png')\n",
    "plt.show()"
   ]
  }
 ],
 "metadata": {
  "kernelspec": {
   "display_name": "Python 3",
   "language": "python",
   "name": "python3"
  },
  "language_info": {
   "codemirror_mode": {
    "name": "ipython",
    "version": 3
   },
   "file_extension": ".py",
   "mimetype": "text/x-python",
   "name": "python",
   "nbconvert_exporter": "python",
   "pygments_lexer": "ipython3",
   "version": "3.6.1"
  }
 },
 "nbformat": 4,
 "nbformat_minor": 2
}
